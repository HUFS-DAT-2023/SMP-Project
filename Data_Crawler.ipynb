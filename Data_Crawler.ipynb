{
 "cells": [
  {
   "cell_type": "code",
   "execution_count": 10,
   "metadata": {},
   "outputs": [],
   "source": [
    "from pykrx import stock\n",
    "from pykrx import bond"
   ]
  },
  {
   "cell_type": "code",
   "execution_count": 43,
   "metadata": {},
   "outputs": [],
   "source": [
    "df = stock.get_market_cap(\"20100104\")\n",
    "top_10 = df['시가총액'].sort_values(ascending=False)[:10]\n",
    "top_10_ticker = top_10.index.tolist()"
   ]
  },
  {
   "cell_type": "code",
   "execution_count": 44,
   "metadata": {},
   "outputs": [
    {
     "data": {
      "text/plain": [
       "티커\n",
       "005930    119165163633000\n",
       "005490     53358343020000\n",
       "005380     26212901001000\n",
       "105560     22949290564200\n",
       "015760     21973694136000\n",
       "Name: 시가총액, dtype: int64"
      ]
     },
     "execution_count": 44,
     "metadata": {},
     "output_type": "execute_result"
    }
   ],
   "source": [
    "top_10.head()"
   ]
  },
  {
   "cell_type": "code",
   "execution_count": 49,
   "metadata": {},
   "outputs": [
    {
     "data": {
      "text/plain": [
       "['005930',\n",
       " '005490',\n",
       " '005380',\n",
       " '105560',\n",
       " '015760',\n",
       " '055550',\n",
       " '066570',\n",
       " '012330',\n",
       " '034220',\n",
       " '051910']"
      ]
     },
     "execution_count": 49,
     "metadata": {},
     "output_type": "execute_result"
    }
   ],
   "source": [
    "top_10_ticker"
   ]
  },
  {
   "cell_type": "code",
   "execution_count": 64,
   "metadata": {},
   "outputs": [
    {
     "data": {
      "text/html": [
       "<div>\n",
       "<style scoped>\n",
       "    .dataframe tbody tr th:only-of-type {\n",
       "        vertical-align: middle;\n",
       "    }\n",
       "\n",
       "    .dataframe tbody tr th {\n",
       "        vertical-align: top;\n",
       "    }\n",
       "\n",
       "    .dataframe thead th {\n",
       "        text-align: right;\n",
       "    }\n",
       "</style>\n",
       "<table border=\"1\" class=\"dataframe\">\n",
       "  <thead>\n",
       "    <tr style=\"text-align: right;\">\n",
       "      <th></th>\n",
       "      <th>Open</th>\n",
       "      <th>High</th>\n",
       "      <th>Low</th>\n",
       "      <th>Close</th>\n",
       "      <th>Volume</th>\n",
       "      <th>Change</th>\n",
       "    </tr>\n",
       "    <tr>\n",
       "      <th>Date</th>\n",
       "      <th></th>\n",
       "      <th></th>\n",
       "      <th></th>\n",
       "      <th></th>\n",
       "      <th></th>\n",
       "      <th></th>\n",
       "    </tr>\n",
       "  </thead>\n",
       "  <tbody>\n",
       "    <tr>\n",
       "      <th>2018-01-02</th>\n",
       "      <td>66416</td>\n",
       "      <td>72026</td>\n",
       "      <td>64616</td>\n",
       "      <td>70988</td>\n",
       "      <td>9853675</td>\n",
       "      <td>0.096255</td>\n",
       "    </tr>\n",
       "    <tr>\n",
       "      <th>2018-01-03</th>\n",
       "      <td>71056</td>\n",
       "      <td>72649</td>\n",
       "      <td>68909</td>\n",
       "      <td>71334</td>\n",
       "      <td>6873248</td>\n",
       "      <td>0.004874</td>\n",
       "    </tr>\n",
       "    <tr>\n",
       "      <th>2018-01-04</th>\n",
       "      <td>71056</td>\n",
       "      <td>72026</td>\n",
       "      <td>63854</td>\n",
       "      <td>63854</td>\n",
       "      <td>9441270</td>\n",
       "      <td>-0.104859</td>\n",
       "    </tr>\n",
       "    <tr>\n",
       "      <th>2018-01-05</th>\n",
       "      <td>59421</td>\n",
       "      <td>70087</td>\n",
       "      <td>59352</td>\n",
       "      <td>69256</td>\n",
       "      <td>12011014</td>\n",
       "      <td>0.084599</td>\n",
       "    </tr>\n",
       "    <tr>\n",
       "      <th>2018-01-08</th>\n",
       "      <td>67871</td>\n",
       "      <td>68148</td>\n",
       "      <td>64061</td>\n",
       "      <td>64962</td>\n",
       "      <td>9172863</td>\n",
       "      <td>-0.062002</td>\n",
       "    </tr>\n",
       "    <tr>\n",
       "      <th>2018-01-09</th>\n",
       "      <td>66832</td>\n",
       "      <td>82553</td>\n",
       "      <td>64962</td>\n",
       "      <td>75489</td>\n",
       "      <td>18388104</td>\n",
       "      <td>0.162049</td>\n",
       "    </tr>\n",
       "    <tr>\n",
       "      <th>2018-01-10</th>\n",
       "      <td>72719</td>\n",
       "      <td>74311</td>\n",
       "      <td>67732</td>\n",
       "      <td>67871</td>\n",
       "      <td>9513079</td>\n",
       "      <td>-0.100915</td>\n",
       "    </tr>\n",
       "    <tr>\n",
       "      <th>2018-01-11</th>\n",
       "      <td>67594</td>\n",
       "      <td>69671</td>\n",
       "      <td>65931</td>\n",
       "      <td>66971</td>\n",
       "      <td>5942264</td>\n",
       "      <td>-0.013260</td>\n",
       "    </tr>\n",
       "    <tr>\n",
       "      <th>2018-01-12</th>\n",
       "      <td>69117</td>\n",
       "      <td>71541</td>\n",
       "      <td>67247</td>\n",
       "      <td>67940</td>\n",
       "      <td>9828140</td>\n",
       "      <td>0.014469</td>\n",
       "    </tr>\n",
       "    <tr>\n",
       "      <th>2018-01-15</th>\n",
       "      <td>70225</td>\n",
       "      <td>74450</td>\n",
       "      <td>68563</td>\n",
       "      <td>71957</td>\n",
       "      <td>10552300</td>\n",
       "      <td>0.059126</td>\n",
       "    </tr>\n",
       "  </tbody>\n",
       "</table>\n",
       "</div>"
      ],
      "text/plain": [
       "             Open   High    Low  Close    Volume    Change\n",
       "Date                                                      \n",
       "2018-01-02  66416  72026  64616  70988   9853675  0.096255\n",
       "2018-01-03  71056  72649  68909  71334   6873248  0.004874\n",
       "2018-01-04  71056  72026  63854  63854   9441270 -0.104859\n",
       "2018-01-05  59421  70087  59352  69256  12011014  0.084599\n",
       "2018-01-08  67871  68148  64061  64962   9172863 -0.062002\n",
       "2018-01-09  66832  82553  64962  75489  18388104  0.162049\n",
       "2018-01-10  72719  74311  67732  67871   9513079 -0.100915\n",
       "2018-01-11  67594  69671  65931  66971   5942264 -0.013260\n",
       "2018-01-12  69117  71541  67247  67940   9828140  0.014469\n",
       "2018-01-15  70225  74450  68563  71957  10552300  0.059126"
      ]
     },
     "execution_count": 64,
     "metadata": {},
     "output_type": "execute_result"
    }
   ],
   "source": [
    "import FinanceDataReader as fdr\n",
    "\n",
    "df = fdr.DataReader('215600', '2018')\n",
    "df.head(10)"
   ]
  },
  {
   "cell_type": "code",
   "execution_count": 65,
   "metadata": {},
   "outputs": [
    {
     "name": "stdout",
     "output_type": "stream",
     "text": [
      "             Open   High    Low  Close  Volume    Change\n",
      "Date                                                    \n",
      "2010-01-04  16060  16180  16000  16180  239271  0.012516\n",
      "2010-01-05  16520  16580  16300  16440  559219  0.016069\n",
      "2010-01-06  16580  16820  16520  16820  459755  0.023114\n",
      "2010-01-07  16820  16820  16260  16260  443237 -0.033294\n",
      "2010-01-08  16400  16420  16120  16420  295798  0.009840\n"
     ]
    }
   ],
   "source": [
    "for ticker in top_10_ticker:\n",
    "    ohlcv_data = fdr.DataReader(ticker, \"20100104\", \"20110104\")\n",
    "    # change_data = ohlcv_data[ohlcv_data['티커'] == ticker]\n",
    "    print(ohlcv_data.head())\n",
    "    break"
   ]
  }
 ],
 "metadata": {
  "kernelspec": {
   "display_name": "main",
   "language": "python",
   "name": "python3"
  },
  "language_info": {
   "codemirror_mode": {
    "name": "ipython",
    "version": 3
   },
   "file_extension": ".py",
   "mimetype": "text/x-python",
   "name": "python",
   "nbconvert_exporter": "python",
   "pygments_lexer": "ipython3",
   "version": "3.10.4"
  },
  "orig_nbformat": 4
 },
 "nbformat": 4,
 "nbformat_minor": 2
}
