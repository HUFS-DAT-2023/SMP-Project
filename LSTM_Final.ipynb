{
 "cells": [
  {
   "cell_type": "code",
   "execution_count": 1,
   "metadata": {},
   "outputs": [],
   "source": [
    "import pandas as pd\n",
    "import numpy as np\n",
    "import matplotlib.pyplot as plt\n",
    "import torch\n",
    "import torch.nn as nn\n",
    "from torch.autograd import Variable\n",
    "from torch.utils.data import TensorDataset, DataLoader\n",
    "import warnings\n",
    "import time\n",
    "import math\n",
    "import random\n",
    "warnings.filterwarnings(action='ignore')"
   ]
  },
  {
   "cell_type": "code",
   "execution_count": 2,
   "metadata": {},
   "outputs": [],
   "source": [
    "# Set random seeds for reproducibility\n",
    "seed = 42\n",
    "torch.manual_seed(seed)\n",
    "torch.cuda.manual_seed(seed)\n",
    "np.random.seed(seed)\n",
    "random.seed(seed)"
   ]
  },
  {
   "cell_type": "code",
   "execution_count": 3,
   "metadata": {},
   "outputs": [],
   "source": [
    "device = torch.device(\"cuda\" if torch.cuda.is_available() else \"cpu\") \n",
    "\n",
    "df = pd.read_csv('./Data/kodex200_data _exp.csv') # 데이터 불러오기\n",
    "close = np.array(df['종가'])\n",
    "logreturn = np.diff(np.log(close)) # Min-max 스케일러 대신, 로그변환을 통한 스케일링\n",
    "\n",
    "csum_logreturn = logreturn.cumsum() # 누적로그수익률누적로그수익률"
   ]
  },
  {
   "cell_type": "code",
   "execution_count": 4,
   "metadata": {},
   "outputs": [],
   "source": [
    "# 원하는 날짜 get\n",
    "# 2020-02-19 : 1753 - short down\n",
    "# 2020-12-21 : 1962 - short up\n",
    "# 2016-12-08 : 969  - long up\n",
    "# 2018-06-05 : 1334 - long down\n",
    "# 2020-03-20 : 1775 - downandup\n",
    "#index_num = df.index[df['날짜'] == '2020-03-20'] # '2020-02-19', '2016-12-08', '2018-06-05', 2020-12-21\n",
    "# Setup : 5년을 1200, 4년 960, 3년 720, 1년 240, 6개월 120, 3개월 60, 1개월 20\n",
    "# 이전 3년 데이터 slicing\n",
    "\n",
    "index_num = 1775 #!!!\n",
    "train_num = 1200 # 5년\n",
    "train_num2 = 960 # 4년\n",
    "df_short_up = df.iloc[1962  - train_num : 1962]\n",
    "df_short_down = df.iloc[1753 - train_num : 1753]\n",
    "df_long_up = df.iloc[969 - train_num2 : 969]\n",
    "df_long_down = df.iloc[1334 - train_num2 : 1334]\n",
    "df_downandup = df.iloc[1775 - train_num : 1775]"
   ]
  },
  {
   "cell_type": "code",
   "execution_count": 5,
   "metadata": {},
   "outputs": [],
   "source": [
    "#idx_num1 = df.index[df['날짜'] == '2020-12-21'].values[0]\n",
    "#idx_num2 = df.index[df['날짜'] == '2020-03-20'].values[0]\n",
    "#idx_num3 = df.index[df['날짜'] == '2020-02-19'].values[0]\n",
    "#idx_num4 = df.index[df['날짜'] == '2016-12-08'].values[0]\n",
    "#idx_num5 = df.index[df['날짜'] == '2018-06-05'].values[0]"
   ]
  },
  {
   "cell_type": "code",
   "execution_count": 6,
   "metadata": {},
   "outputs": [],
   "source": [
    "#train_s1 = df.iloc[idx_num1 - train_num : idx_num1]\n",
    "#train_s2 = df.iloc[idx_num2 - train_num : idx_num2]\n",
    "#train_s3 = df.iloc[idx_num3 - train_num : idx_num3]\n",
    "#train_s4 = df.iloc[idx_num4 - train_num2 : idx_num4]\n",
    "#train_s5 = df.iloc[idx_num5 - train_num2: idx_num5]"
   ]
  },
  {
   "cell_type": "code",
   "execution_count": 7,
   "metadata": {},
   "outputs": [],
   "source": [
    "# train_close = np.array(train_s1['종가'])\n",
    "# train_set = np.diff(np.log(train_close)).cumsum() # Min-max 스케일러 대신, 로그변환을 통한 스케일링, 누적로그수익률"
   ]
  },
  {
   "cell_type": "code",
   "execution_count": 8,
   "metadata": {},
   "outputs": [],
   "source": [
    "# criteria = idx_num1\n",
    "# test_m1_df = df.iloc[criteria : criteria+20]\n",
    "# test_m3_df = df.iloc[criteria : criteria+60]\n",
    "# test_m6_df = df.iloc[criteria : criteria+120]"
   ]
  },
  {
   "cell_type": "code",
   "execution_count": 9,
   "metadata": {},
   "outputs": [],
   "source": [
    "# test_m1 = np.array(test_m1_df['종가'])\n",
    "# test_m1 = np.diff(np.log(test_m1)).cumsum()\n",
    "# test_m3 = np.array(test_m3_df['종가'])\n",
    "# test_m3 = np.diff(np.log(test_m3)).cumsum()\n",
    "# test_m6 = np.array(test_m6_df['종가'])\n",
    "# test_m6 = np.diff(np.log(test_m6)).cumsum()"
   ]
  },
  {
   "cell_type": "code",
   "execution_count": 10,
   "metadata": {},
   "outputs": [],
   "source": [
    "# test_set = test_m3"
   ]
  },
  {
   "attachments": {},
   "cell_type": "markdown",
   "metadata": {},
   "source": [
    "데이터 분리 및 사용"
   ]
  },
  {
   "cell_type": "code",
   "execution_count": 11,
   "metadata": {},
   "outputs": [
    {
     "name": "stdout",
     "output_type": "stream",
     "text": [
      "trainX:torch.Size([1968, 3, 1]), trainY:torch.Size([1968, 1]), testX:torch.Size([489, 3, 1]), testY:torch.Size([489, 1])\n"
     ]
    }
   ],
   "source": [
    "# Train, Test 데이터 분리\n",
    "train_size = 0.8\n",
    "n_train = int(train_size*csum_logreturn.shape[0]) #train size 따른 데이터 갯수\n",
    "train_set = csum_logreturn[0: n_train]\n",
    "test_set = csum_logreturn[n_train:]\n",
    "\n",
    "# 모델 파라미터 정의\n",
    "batch = 100\n",
    "input_window = 3 # window size\n",
    "output_size = 1 # output 차원\n",
    "input_size = 1 # feature 개수\n",
    "hidden_size = 10\n",
    "num_layers = 1 \n",
    "dropout_prob = 0.1\n",
    "\n",
    "def sliding_windows(data, input_window):\n",
    "    x = []\n",
    "    y = []\n",
    "\n",
    "    for i in range(len(data)-input_window-2):\n",
    "        _x = data[i:(i+input_window)]\n",
    "        _y = data[i+input_window]\n",
    "        x.append(_x)\n",
    "        y.append(_y)\n",
    "    \n",
    "    x = np.array(x).reshape(-1, input_window, 1)\n",
    "    y = np.array(y).reshape(-1, 1)\n",
    "\n",
    "    return torch.FloatTensor(np.array(x)), torch.FloatTensor(np.array(y))\n",
    "\n",
    "trainX_tensor, trainY_tensor = sliding_windows(train_set, input_window)\n",
    "testX_tensor, testY_tensor = sliding_windows(test_set, input_window)\n",
    "\n",
    "print(f\"trainX:{trainX_tensor.shape}, trainY:{trainY_tensor.shape}, testX:{testX_tensor.shape}, testY:{testY_tensor.shape}\")\n",
    "\n",
    "# 데이터셋으로 묶음\n",
    "dataset = TensorDataset(trainX_tensor, trainY_tensor)\n",
    "\n",
    "# 데이터로더는 기본적으로 2개의 인자를 입력받으며 배치크기는 통상적으로 2의 배수를 사용\n",
    "dataloader = DataLoader(dataset,\n",
    "                        batch_size=batch,\n",
    "                        shuffle=True,  \n",
    "                        drop_last=True)"
   ]
  },
  {
   "attachments": {},
   "cell_type": "markdown",
   "metadata": {},
   "source": [
    "LSTM Model"
   ]
  },
  {
   "cell_type": "code",
   "execution_count": 12,
   "metadata": {},
   "outputs": [],
   "source": [
    "class LSTM(nn.Module):\n",
    "    # 기본변수, layer를 초기화해주는 생성자\n",
    "    def __init__(self, input_size=input_size, output_size=output_size, hidden_size=hidden_size, num_layers=num_layers, dropout_prob=dropout_prob):\n",
    "        super(LSTM, self).__init__()\n",
    "        self.input_size = input_size\n",
    "        self.output_size = output_size\n",
    "        self.hidden_size = hidden_size\n",
    "        self.num_layers = num_layers \n",
    "        self.dropout_prob = dropout_prob\n",
    "        \n",
    "        self.lstm = nn.LSTM(input_size=input_size, hidden_size=hidden_size, \n",
    "                            num_layers=num_layers, batch_first=True)\n",
    "        \n",
    "        self.dropout = nn.Dropout(dropout_prob)\n",
    "        self.fc_1 =  nn.Linear(hidden_size, 128) #fully connected 1\n",
    "        self.fc = nn.Linear(128, output_size) #fully connected last layer\n",
    "        self.relu = nn.ReLU()\n",
    "\n",
    "    def forward(self, x) :\n",
    "        # Propagate input through LSTM\n",
    "        h_0 = Variable(torch.zeros(self.num_layers, x.size(0), self.hidden_size)) \n",
    "        c_0 = Variable(torch.zeros(self.num_layers, x.size(0), self.hidden_size))\n",
    "           \n",
    "        output, (hn, cn) = self.lstm(x, (h_0, c_0)) # lstm with input, hidden, and internal state\n",
    "\n",
    "        hn = hn.view(-1, self.hidden_size) # reshaping the data for Dense layer next\n",
    "        out = self.relu(hn)\n",
    "        out = self.dropout(out)\n",
    "        out = self.fc_1(out) #first Dense\n",
    "        out = self.relu(out) #relu\n",
    "        out = self.fc(out) #Final Output\n",
    "\n",
    "        return out"
   ]
  },
  {
   "attachments": {},
   "cell_type": "markdown",
   "metadata": {},
   "source": [
    "훈련 함수"
   ]
  },
  {
   "cell_type": "code",
   "execution_count": 13,
   "metadata": {},
   "outputs": [],
   "source": [
    "def train(model, train_data, optimizer, criterion, scheduler, epoch):\n",
    "    model.train() \n",
    "    total_loss = 0.\n",
    "    start_time = time.time()\n",
    "    for batch_idx, samples in enumerate(train_data):\n",
    "\n",
    "        data, targets = samples\n",
    "\n",
    "        output = model(data)\n",
    "\n",
    "        loss = criterion(output, targets)\n",
    "\n",
    "        optimizer.zero_grad()\n",
    "        loss.backward()\n",
    "        torch.nn.utils.clip_grad_norm_(model.parameters(), 0.7)\n",
    "        optimizer.step()\n",
    "\n",
    "        total_loss += loss.item()\n",
    "\n",
    "        if batch_idx % 2 == 0:\n",
    "            elapsed_time = time.time() - start_time\n",
    "            avg_loss = total_loss / (batch_idx + 1)\n",
    "            print(f\"| epoch {epoch:3d} | {batch_idx:5d}/{len(train_data):5d} batches | \"\n",
    "                f\"lr {scheduler.get_lr()[0]:.10f} | {elapsed_time:6.2f} ms | \"\n",
    "                f\"loss {avg_loss:.7f}\")\n",
    "\n",
    "    scheduler.step()"
   ]
  },
  {
   "attachments": {},
   "cell_type": "markdown",
   "metadata": {},
   "source": [
    "모델 평가 함수"
   ]
  },
  {
   "cell_type": "code",
   "execution_count": 14,
   "metadata": {},
   "outputs": [],
   "source": [
    "def evaluate(eval_model, criterion, testX, testY):\n",
    "    eval_model.eval() # 평가 모드로 전환\n",
    "    total_loss = 0.\n",
    "    with torch.no_grad():\n",
    "        output = eval_model(testX)    \n",
    "        total_loss += len(testX[0])* criterion(output, testY).cpu().item()\n",
    "    return total_loss / len(testX)"
   ]
  },
  {
   "attachments": {},
   "cell_type": "markdown",
   "metadata": {},
   "source": [
    "테스트 예측 함수"
   ]
  },
  {
   "cell_type": "code",
   "execution_count": 15,
   "metadata": {},
   "outputs": [],
   "source": [
    "def forecast_seq(model, testX, testY):\n",
    "    # 예측 결과와 실제 값 반환\n",
    "    model.eval() \n",
    "    forecast = model(testX).data.numpy()\n",
    "    actual = testY.data.numpy()\n",
    "\n",
    "    return forecast, actual"
   ]
  },
  {
   "attachments": {},
   "cell_type": "markdown",
   "metadata": {},
   "source": [
    "데이터 준비 및 훈련"
   ]
  },
  {
   "cell_type": "code",
   "execution_count": 16,
   "metadata": {},
   "outputs": [],
   "source": [
    "train_data = dataloader\n",
    "model = LSTM().to(device)"
   ]
  },
  {
   "attachments": {},
   "cell_type": "markdown",
   "metadata": {},
   "source": [
    "모델 파라미터"
   ]
  },
  {
   "cell_type": "code",
   "execution_count": 17,
   "metadata": {},
   "outputs": [],
   "source": [
    "criterion = nn.MSELoss() # Loss function\n",
    "lr = 0.01 # learning rate\n",
    "\n",
    "optimizer = torch.optim.AdamW(model.parameters(), lr=lr)\n",
    "scheduler = torch.optim.lr_scheduler.StepLR(optimizer, 1.0, gamma=0.95)\n",
    "\n",
    "epochs = 5 # Number of epochs"
   ]
  },
  {
   "attachments": {},
   "cell_type": "markdown",
   "metadata": {},
   "source": [
    "Training loop"
   ]
  },
  {
   "cell_type": "code",
   "execution_count": 18,
   "metadata": {},
   "outputs": [
    {
     "name": "stdout",
     "output_type": "stream",
     "text": [
      "| epoch   1 |     0/   19 batches | lr 0.0100000000 |   0.01 ms | loss 0.0308245\n",
      "| epoch   1 |     2/   19 batches | lr 0.0100000000 |   0.01 ms | loss 0.0216374\n",
      "| epoch   1 |     4/   19 batches | lr 0.0100000000 |   0.02 ms | loss 0.0175816\n",
      "| epoch   1 |     6/   19 batches | lr 0.0100000000 |   0.03 ms | loss 0.0157986\n",
      "| epoch   1 |     8/   19 batches | lr 0.0100000000 |   0.04 ms | loss 0.0155350\n",
      "| epoch   1 |    10/   19 batches | lr 0.0100000000 |   0.04 ms | loss 0.0143598\n",
      "| epoch   1 |    12/   19 batches | lr 0.0100000000 |   0.05 ms | loss 0.0139123\n",
      "| epoch   1 |    14/   19 batches | lr 0.0100000000 |   0.06 ms | loss 0.0133533\n",
      "| epoch   1 |    16/   19 batches | lr 0.0100000000 |   0.06 ms | loss 0.0127426\n",
      "| epoch   1 |    18/   19 batches | lr 0.0100000000 |   0.07 ms | loss 0.0124064\n",
      "--------------------------------------------------------------------------------\n",
      "| end of epoch   1 | time:  0.07s\n",
      "--------------------------------------------------------------------------------\n",
      "| epoch   2 |     0/   19 batches | lr 0.0085737500 |   0.00 ms | loss 0.0104252\n",
      "| epoch   2 |     2/   19 batches | lr 0.0085737500 |   0.01 ms | loss 0.0072917\n",
      "| epoch   2 |     4/   19 batches | lr 0.0085737500 |   0.02 ms | loss 0.0064260\n",
      "| epoch   2 |     6/   19 batches | lr 0.0085737500 |   0.02 ms | loss 0.0059561\n",
      "| epoch   2 |     8/   19 batches | lr 0.0085737500 |   0.03 ms | loss 0.0055349\n",
      "| epoch   2 |    10/   19 batches | lr 0.0085737500 |   0.04 ms | loss 0.0051798\n",
      "| epoch   2 |    12/   19 batches | lr 0.0085737500 |   0.04 ms | loss 0.0047772\n",
      "| epoch   2 |    14/   19 batches | lr 0.0085737500 |   0.05 ms | loss 0.0044238\n",
      "| epoch   2 |    16/   19 batches | lr 0.0085737500 |   0.05 ms | loss 0.0041031\n",
      "| epoch   2 |    18/   19 batches | lr 0.0085737500 |   0.06 ms | loss 0.0039105\n",
      "--------------------------------------------------------------------------------\n",
      "| end of epoch   2 | time:  0.06s\n",
      "--------------------------------------------------------------------------------\n",
      "| epoch   3 |     0/   19 batches | lr 0.0077378094 |   0.00 ms | loss 0.0015112\n",
      "| epoch   3 |     2/   19 batches | lr 0.0077378094 |   0.01 ms | loss 0.0015222\n",
      "| epoch   3 |     4/   19 batches | lr 0.0077378094 |   0.02 ms | loss 0.0015624\n",
      "| epoch   3 |     6/   19 batches | lr 0.0077378094 |   0.02 ms | loss 0.0014394\n",
      "| epoch   3 |     8/   19 batches | lr 0.0077378094 |   0.03 ms | loss 0.0014476\n",
      "| epoch   3 |    10/   19 batches | lr 0.0077378094 |   0.03 ms | loss 0.0014740\n",
      "| epoch   3 |    12/   19 batches | lr 0.0077378094 |   0.04 ms | loss 0.0015164\n",
      "| epoch   3 |    14/   19 batches | lr 0.0077378094 |   0.05 ms | loss 0.0014866\n",
      "| epoch   3 |    16/   19 batches | lr 0.0077378094 |   0.05 ms | loss 0.0014755\n",
      "| epoch   3 |    18/   19 batches | lr 0.0077378094 |   0.07 ms | loss 0.0014227\n",
      "--------------------------------------------------------------------------------\n",
      "| end of epoch   3 | time:  0.07s\n",
      "--------------------------------------------------------------------------------\n",
      "| epoch   4 |     0/   19 batches | lr 0.0069833730 |   0.00 ms | loss 0.0009172\n",
      "| epoch   4 |     2/   19 batches | lr 0.0069833730 |   0.01 ms | loss 0.0009881\n",
      "| epoch   4 |     4/   19 batches | lr 0.0069833730 |   0.01 ms | loss 0.0012786\n",
      "| epoch   4 |     6/   19 batches | lr 0.0069833730 |   0.02 ms | loss 0.0012137\n",
      "| epoch   4 |     8/   19 batches | lr 0.0069833730 |   0.03 ms | loss 0.0011409\n",
      "| epoch   4 |    10/   19 batches | lr 0.0069833730 |   0.04 ms | loss 0.0012459\n",
      "| epoch   4 |    12/   19 batches | lr 0.0069833730 |   0.04 ms | loss 0.0013225\n",
      "| epoch   4 |    14/   19 batches | lr 0.0069833730 |   0.05 ms | loss 0.0012569\n",
      "| epoch   4 |    16/   19 batches | lr 0.0069833730 |   0.06 ms | loss 0.0013158\n",
      "| epoch   4 |    18/   19 batches | lr 0.0069833730 |   0.06 ms | loss 0.0012933\n",
      "--------------------------------------------------------------------------------\n",
      "| end of epoch   4 | time:  0.06s\n",
      "--------------------------------------------------------------------------------\n",
      "| epoch   5 |     0/   19 batches | lr 0.0063024941 |   0.00 ms | loss 0.0008118\n",
      "| epoch   5 |     2/   19 batches | lr 0.0063024941 |   0.01 ms | loss 0.0010616\n",
      "| epoch   5 |     4/   19 batches | lr 0.0063024941 |   0.01 ms | loss 0.0010251\n",
      "| epoch   5 |     6/   19 batches | lr 0.0063024941 |   0.02 ms | loss 0.0009819\n",
      "| epoch   5 |     8/   19 batches | lr 0.0063024941 |   0.03 ms | loss 0.0010070\n",
      "| epoch   5 |    10/   19 batches | lr 0.0063024941 |   0.03 ms | loss 0.0009964\n",
      "| epoch   5 |    12/   19 batches | lr 0.0063024941 |   0.04 ms | loss 0.0009424\n",
      "| epoch   5 |    14/   19 batches | lr 0.0063024941 |   0.05 ms | loss 0.0009351\n",
      "| epoch   5 |    16/   19 batches | lr 0.0063024941 |   0.05 ms | loss 0.0009156\n",
      "| epoch   5 |    18/   19 batches | lr 0.0063024941 |   0.06 ms | loss 0.0008902\n",
      "--------------------------------------------------------------------------------\n",
      "| end of epoch   5 | time:  0.06s | valid loss: 0.0000091\n",
      "--------------------------------------------------------------------------------\n"
     ]
    }
   ],
   "source": [
    "for epoch in range(1, epochs + 1):\n",
    "    epoch_start_time = time.time()\n",
    "\n",
    "    train(model, train_data, optimizer, criterion, scheduler, epoch)\n",
    "\n",
    "    if(epoch % epochs == 0): # 마지막 에포치 끝난 후 모델 평가\n",
    "        val_loss = evaluate(model, criterion, testX_tensor, testY_tensor)\n",
    "        print('-' * 80)\n",
    "        print('| end of epoch {:3d} | time: {:5.2f}s | valid loss: {:5.7f}'.format(epoch, (time.time() - epoch_start_time), val_loss))\n",
    "        print('-' * 80)\n",
    "\n",
    "    else:   \n",
    "        print('-' * 80)\n",
    "        print('| end of epoch {:3d} | time: {:5.2f}s'.format(epoch, (time.time() - epoch_start_time)))\n",
    "        print('-' * 80)\n",
    "\n",
    "    scheduler.step()"
   ]
  },
  {
   "attachments": {},
   "cell_type": "markdown",
   "metadata": {},
   "source": [
    "1개월"
   ]
  },
  {
   "cell_type": "code",
   "execution_count": 19,
   "metadata": {},
   "outputs": [],
   "source": [
    "# test_m1_X, test_m1_Y = sliding_windows(test_m1, input_window)\n",
    "# val_loss = evaluate(model, criterion, test_m1_X, test_m1_Y)\n",
    "# test_result, truth = forecast_seq(model, test_m1_X, test_m1_Y)\n",
    "# print(val_loss)"
   ]
  },
  {
   "cell_type": "code",
   "execution_count": 20,
   "metadata": {},
   "outputs": [
    {
     "data": {
      "image/png": "[encoded data removed]",
      "text/plain": [
       "<Figure size 640x480 with 1 Axes>"
      ]
     },
     "metadata": {},
     "output_type": "display_data"
    }
   ],
   "source": [
    "test_result, truth = forecast_seq(model, testX_tensor, testY_tensor)\n",
    "plt.plot(truth, color='red', alpha=0.7)\n",
    "plt.plot(test_result, color='blue', linewidth=0.7)\n",
    "plt.title('Actual vs Forecast')\n",
    "plt.legend(['Actual', 'Forecast'])\n",
    "plt.xlabel('Time Steps')\n",
    "plt.show()"
   ]
  },
  {
   "attachments": {},
   "cell_type": "markdown",
   "metadata": {},
   "source": [
    "3개월"
   ]
  },
  {
   "cell_type": "code",
   "execution_count": 21,
   "metadata": {},
   "outputs": [],
   "source": [
    "# test_m3_X, test_m3_Y = sliding_windows(test_m3, input_window)\n",
    "# val_loss = evaluate(model, criterion, test_m3_X, test_m3_Y)\n",
    "# test_result, truth = forecast_seq(model, test_m3_X, test_m3_Y)\n",
    "# print(val_loss)"
   ]
  },
  {
   "cell_type": "code",
   "execution_count": 22,
   "metadata": {},
   "outputs": [],
   "source": [
    "# plt.plot(truth, color='red', alpha=0.7)\n",
    "# plt.plot(test_result, color='blue', linewidth=0.7)\n",
    "# plt.title('Actual vs Forecast')\n",
    "# plt.legend(['Actual', 'Forecast'])\n",
    "# plt.xlabel('Time Steps')\n",
    "# plt.show()"
   ]
  },
  {
   "attachments": {},
   "cell_type": "markdown",
   "metadata": {},
   "source": [
    "6개월"
   ]
  },
  {
   "cell_type": "code",
   "execution_count": 23,
   "metadata": {},
   "outputs": [],
   "source": [
    "# test_m6_X, test_m6_Y = sliding_windows(test_m6, input_window)\n",
    "# val_loss = evaluate(model, criterion, test_m6_X, test_m6_Y)\n",
    "# test_result, truth = forecast_seq(model, test_m6_X, test_m6_Y)\n",
    "# print(val_loss)"
   ]
  },
  {
   "cell_type": "code",
   "execution_count": 24,
   "metadata": {},
   "outputs": [],
   "source": [
    "# plt.plot(truth, color='red', alpha=0.7)\n",
    "# plt.plot(test_result, color='blue', linewidth=0.7)\n",
    "# plt.title('Actual vs Forecast')\n",
    "# plt.legend(['Actual', 'Forecast'])\n",
    "# plt.xlabel('Time Steps')\n",
    "# plt.show()"
   ]
  }
 ],
 "metadata": {
  "kernelspec": {
   "display_name": "main",
   "language": "python",
   "name": "python3"
  },
  "language_info": {
   "codemirror_mode": {
    "name": "ipython",
    "version": 3
   },
   "file_extension": ".py",
   "mimetype": "text/x-python",
   "name": "python",
   "nbconvert_exporter": "python",
   "pygments_lexer": "ipython3",
   "version": "3.10.8"
  },
  "orig_nbformat": 4
 },
 "nbformat": 4,
 "nbformat_minor": 2
}
