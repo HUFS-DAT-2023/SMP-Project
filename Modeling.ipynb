{
 "cells": [
  {
   "cell_type": "code",
   "execution_count": 1,
   "metadata": {},
   "outputs": [],
   "source": [
    "import pandas as pd\n",
    "import random\n",
    "import numpy as np\n",
    "import matplotlib.pyplot as plt\n",
    "import torch\n",
    "import torch.nn as nn\n",
    "import torch.optim as optim\n",
    "from sklearn.preprocessing import MinMaxScaler\n",
    "from sklearn.model_selection import train_test_split\n",
    "from torch.autograd import Variable\n",
    "from torch.utils.data import TensorDataset, DataLoader"
   ]
  },
  {
   "cell_type": "code",
   "execution_count": 2,
   "metadata": {},
   "outputs": [],
   "source": [
    "# Data Loading\n",
    "df = pd.read_csv('./Data/inverse_data.csv')"
   ]
  },
  {
   "cell_type": "code",
   "execution_count": 3,
   "metadata": {},
   "outputs": [
    {
     "name": "stdout",
     "output_type": "stream",
     "text": [
      "<class 'pandas.core.frame.DataFrame'>\n",
      "RangeIndex: 2462 entries, 0 to 2461\n",
      "Data columns (total 7 columns):\n",
      " #   Column  Non-Null Count  Dtype  \n",
      "---  ------  --------------  -----  \n",
      " 0   Date    2462 non-null   object \n",
      " 1   Open    2462 non-null   int64  \n",
      " 2   High    2462 non-null   int64  \n",
      " 3   Low     2462 non-null   int64  \n",
      " 4   Close   2462 non-null   int64  \n",
      " 5   Volume  2462 non-null   int64  \n",
      " 6   Change  2462 non-null   float64\n",
      "dtypes: float64(1), int64(5), object(1)\n",
      "memory usage: 134.8+ KB\n"
     ]
    }
   ],
   "source": [
    "df.info()"
   ]
  },
  {
   "cell_type": "code",
   "execution_count": 4,
   "metadata": {},
   "outputs": [
    {
     "data": {
      "text/html": [
       "<div>\n",
       "<style scoped>\n",
       "    .dataframe tbody tr th:only-of-type {\n",
       "        vertical-align: middle;\n",
       "    }\n",
       "\n",
       "    .dataframe tbody tr th {\n",
       "        vertical-align: top;\n",
       "    }\n",
       "\n",
       "    .dataframe thead th {\n",
       "        text-align: right;\n",
       "    }\n",
       "</style>\n",
       "<table border=\"1\" class=\"dataframe\">\n",
       "  <thead>\n",
       "    <tr style=\"text-align: right;\">\n",
       "      <th></th>\n",
       "      <th>Open</th>\n",
       "      <th>High</th>\n",
       "      <th>Low</th>\n",
       "      <th>Close</th>\n",
       "      <th>Volume</th>\n",
       "      <th>Change</th>\n",
       "    </tr>\n",
       "    <tr>\n",
       "      <th>Date</th>\n",
       "      <th></th>\n",
       "      <th></th>\n",
       "      <th></th>\n",
       "      <th></th>\n",
       "      <th></th>\n",
       "      <th></th>\n",
       "    </tr>\n",
       "  </thead>\n",
       "  <tbody>\n",
       "    <tr>\n",
       "      <th>2013-01-04</th>\n",
       "      <td>0.661738</td>\n",
       "      <td>0.644504</td>\n",
       "      <td>0.679924</td>\n",
       "      <td>0.659401</td>\n",
       "      <td>0.039956</td>\n",
       "      <td>0.006892</td>\n",
       "    </tr>\n",
       "    <tr>\n",
       "      <th>2013-01-07</th>\n",
       "      <td>0.670055</td>\n",
       "      <td>0.651596</td>\n",
       "      <td>0.688447</td>\n",
       "      <td>0.658492</td>\n",
       "      <td>0.031559</td>\n",
       "      <td>-0.000684</td>\n",
       "    </tr>\n",
       "    <tr>\n",
       "      <th>2013-01-08</th>\n",
       "      <td>0.675601</td>\n",
       "      <td>0.655142</td>\n",
       "      <td>0.691288</td>\n",
       "      <td>0.673025</td>\n",
       "      <td>0.038526</td>\n",
       "      <td>0.010959</td>\n",
       "    </tr>\n",
       "    <tr>\n",
       "      <th>2013-01-09</th>\n",
       "      <td>0.682994</td>\n",
       "      <td>0.661348</td>\n",
       "      <td>0.696970</td>\n",
       "      <td>0.678474</td>\n",
       "      <td>0.042234</td>\n",
       "      <td>0.004065</td>\n",
       "    </tr>\n",
       "    <tr>\n",
       "      <th>2013-01-10</th>\n",
       "      <td>0.688540</td>\n",
       "      <td>0.664894</td>\n",
       "      <td>0.695076</td>\n",
       "      <td>0.665758</td>\n",
       "      <td>0.082208</td>\n",
       "      <td>-0.009447</td>\n",
       "    </tr>\n",
       "    <tr>\n",
       "      <th>2013-01-11</th>\n",
       "      <td>0.670055</td>\n",
       "      <td>0.668440</td>\n",
       "      <td>0.688447</td>\n",
       "      <td>0.675749</td>\n",
       "      <td>0.075349</td>\n",
       "      <td>0.007493</td>\n",
       "    </tr>\n",
       "    <tr>\n",
       "      <th>2013-01-14</th>\n",
       "      <td>0.690388</td>\n",
       "      <td>0.664894</td>\n",
       "      <td>0.698864</td>\n",
       "      <td>0.668483</td>\n",
       "      <td>0.048246</td>\n",
       "      <td>-0.005409</td>\n",
       "    </tr>\n",
       "    <tr>\n",
       "      <th>2013-01-15</th>\n",
       "      <td>0.682994</td>\n",
       "      <td>0.665780</td>\n",
       "      <td>0.691288</td>\n",
       "      <td>0.683924</td>\n",
       "      <td>0.068131</td>\n",
       "      <td>0.011557</td>\n",
       "    </tr>\n",
       "    <tr>\n",
       "      <th>2013-01-16</th>\n",
       "      <td>0.691312</td>\n",
       "      <td>0.678191</td>\n",
       "      <td>0.707386</td>\n",
       "      <td>0.693915</td>\n",
       "      <td>0.058982</td>\n",
       "      <td>0.007392</td>\n",
       "    </tr>\n",
       "    <tr>\n",
       "      <th>2013-01-17</th>\n",
       "      <td>0.697782</td>\n",
       "      <td>0.682624</td>\n",
       "      <td>0.715909</td>\n",
       "      <td>0.691190</td>\n",
       "      <td>0.071058</td>\n",
       "      <td>-0.002001</td>\n",
       "    </tr>\n",
       "  </tbody>\n",
       "</table>\n",
       "</div>"
      ],
      "text/plain": [
       "                Open      High       Low     Close    Volume    Change\n",
       "Date                                                                  \n",
       "2013-01-04  0.661738  0.644504  0.679924  0.659401  0.039956  0.006892\n",
       "2013-01-07  0.670055  0.651596  0.688447  0.658492  0.031559 -0.000684\n",
       "2013-01-08  0.675601  0.655142  0.691288  0.673025  0.038526  0.010959\n",
       "2013-01-09  0.682994  0.661348  0.696970  0.678474  0.042234  0.004065\n",
       "2013-01-10  0.688540  0.664894  0.695076  0.665758  0.082208 -0.009447\n",
       "2013-01-11  0.670055  0.668440  0.688447  0.675749  0.075349  0.007493\n",
       "2013-01-14  0.690388  0.664894  0.698864  0.668483  0.048246 -0.005409\n",
       "2013-01-15  0.682994  0.665780  0.691288  0.683924  0.068131  0.011557\n",
       "2013-01-16  0.691312  0.678191  0.707386  0.693915  0.058982  0.007392\n",
       "2013-01-17  0.697782  0.682624  0.715909  0.691190  0.071058 -0.002001"
      ]
     },
     "execution_count": 4,
     "metadata": {},
     "output_type": "execute_result"
    }
   ],
   "source": [
    "# MinMax 스케일러 이용한 데이터 정규화 \n",
    "scaler = MinMaxScaler()\n",
    "scale_cols = ['Open', 'High', 'Low', 'Close', 'Volume']\n",
    "for col in scale_cols:\n",
    "    scaled_value = scaler.fit_transform(df[[col]])\n",
    "    df[col] = scaled_value\n",
    "\n",
    "# 학습 데이터, 테스트 데이터 분리\n",
    "df.set_index('Date', inplace=True)\n",
    "train_set = df[:'2019-12-31']\n",
    "test_set = df['2020-01-01':]\n",
    "df.head(10)"
   ]
  },
  {
   "cell_type": "code",
   "execution_count": 22,
   "metadata": {},
   "outputs": [
    {
     "data": {
      "text/plain": [
       "numpy.ndarray"
      ]
     },
     "execution_count": 22,
     "metadata": {},
     "output_type": "execute_result"
    }
   ],
   "source": [
    "train_set = df[:'2019-12-31']\n",
    "test_set = df['2020-01-01':]\n",
    "\n",
    "scaler = MinMaxScaler()\n",
    "scaler_x = scaler.fit_transform(train_set)\n",
    "train_scaler_y = scaler.fit_transform(train_set.iloc[:, [3]])\n",
    "test_scaler_y = scaler.fit_transform(test_set.iloc[:, [3]])\n",
    "\n",
    "type(train_scaler_y)"
   ]
  },
  {
   "cell_type": "code",
   "execution_count": 5,
   "metadata": {},
   "outputs": [
    {
     "name": "stdout",
     "output_type": "stream",
     "text": [
      "trainX:(1710, 7, 6), testX:(738, 7, 6), trainY:(1710, 1), testY:(738, 1)\n"
     ]
    }
   ],
   "source": [
    "# seq_length 만큼 데이터 셋 묶어준다\n",
    "seq_length = 7\n",
    "batch = 100\n",
    "\n",
    "# 데이터셋 생성 함수\n",
    "def build_dataset(time_series, seq_length):\n",
    "    dataX = []\n",
    "    dataY = []\n",
    "    for i in range(0, len(time_series)-seq_length):\n",
    "        _x = time_series[i:i+seq_length, :]\n",
    "        _y = time_series[i+seq_length, [3]] # row, close column\n",
    "        #print(_x, \"-->\",_y)\n",
    "        dataX.append(_x)\n",
    "        dataY.append(_y)\n",
    "\n",
    "    return np.array(dataX), np.array(dataY)\n",
    "\n",
    "trainX, trainY = build_dataset(np.array(train_set), seq_length)\n",
    "testX, testY = build_dataset(np.array(test_set), seq_length)\n",
    "\n",
    "print(f\"trainX:{trainX.shape}, testX:{testX.shape}, trainY:{trainY.shape}, testY:{testY.shape}\")\n",
    "\n",
    "# 텐서로 변환\n",
    "trainX_tensor = torch.FloatTensor(trainX)\n",
    "trainY_tensor = torch.FloatTensor(trainY)\n",
    "\n",
    "testX_tensor = torch.FloatTensor(testX)\n",
    "testY_tensor = torch.FloatTensor(testY)\n",
    "\n",
    "# 텐서 형태로 데이터 정의\n",
    "dataset = TensorDataset(trainX_tensor, trainY_tensor)\n",
    "\n",
    "# 데이터로더는 기본적으로 2개의 인자를 입력받으며 배치크기는 통상적으로 2의 배수를 사용\n",
    "dataloader = DataLoader(dataset,\n",
    "                        batch_size=batch,\n",
    "                        shuffle=True,  \n",
    "                        drop_last=True)"
   ]
  },
  {
   "cell_type": "code",
   "execution_count": 6,
   "metadata": {},
   "outputs": [],
   "source": [
    "# Hyper Parameter\n",
    "num_classes = 1 #number of output classes \n",
    "\n",
    "input_size = 6\n",
    "hidden_size = 25\n",
    "num_layers = 1\n",
    "\n",
    "learning_rate = 0.0001\n",
    "nb_epochs = 300\n",
    "\n",
    "class LSTM(nn.Module):\n",
    "    # 기본변수, layer를 초기화해주는 생성자\n",
    "    def __init__(self, num_classes, input_size, hidden_size, num_layers, seq_length):\n",
    "        super(LSTM, self).__init__()\n",
    "        self.num_classes = num_classes \n",
    "        self.input_size = input_size\n",
    "        self.hidden_size = hidden_size\n",
    "        self.num_layers = num_layers \n",
    "        self.seq_length = seq_length\n",
    "        \n",
    "        self.lstm = nn.LSTM(input_size=input_size, hidden_size=hidden_size, \n",
    "                            num_layers=num_layers, batch_first=True)\n",
    "\n",
    "        self.fc_1 =  nn.Linear(hidden_size, 128) #fully connected 1\n",
    "        self.fc = nn.Linear(128, num_classes) #fully connected last layer\n",
    "        self.relu = nn.ReLU()\n",
    "\n",
    "    def forward(self, x) :\n",
    "        # Propagate input through LSTM\n",
    "        h_0 = Variable(torch.zeros(self.num_layers, x.size(0), self.hidden_size))\n",
    "        c_0 = Variable(torch.zeros(self.num_layers, x.size(0), self.hidden_size))\n",
    "           \n",
    "        output, (hn, cn) = self.lstm(x, (h_0, c_0)) # lstm with input, hidden, and internal state\n",
    "\n",
    "        hn = hn.view(-1, self.hidden_size) # reshaping the data for Dense layer next\n",
    "        out = self.relu(hn)\n",
    "        out = self.fc_1(out) #first Dense\n",
    "        out = self.relu(out) #relu\n",
    "        out = self.fc(out) #Final Output\n",
    "\n",
    "        return out"
   ]
  },
  {
   "cell_type": "code",
   "execution_count": 7,
   "metadata": {},
   "outputs": [],
   "source": [
    "def train_model(model, train_df, num_epochs = None, lr = None, verbose = 1, patience = 5):\n",
    "    device = torch.device(\"cuda\" if torch.cuda.is_available() else \"cpu\")\n",
    "    criterion = nn.MSELoss().to(device)\n",
    "    optimizer = optim.Adam(model.parameters(), lr = learning_rate)\n",
    "    nb_epochs = num_epochs\n",
    "    \n",
    "    # epoch마다 loss 저장\n",
    "    train_hist = np.zeros(nb_epochs)\n",
    "\n",
    "    for epoch in range(nb_epochs):\n",
    "        avg_cost = 0\n",
    "        total_batch = len(train_df)\n",
    "        for batch_idx, samples in enumerate(train_df):\n",
    "\n",
    "            x_train, y_train = samples\n",
    "            \n",
    "            # H(x) 계산\n",
    "            outputs = model.forward(x_train)\n",
    "            # cost 계산\n",
    "            loss = criterion(outputs, y_train)                 \n",
    "            \n",
    "            # cost로 H(x) 개선\n",
    "            optimizer.zero_grad()\n",
    "            loss.backward()\n",
    "            optimizer.step()\n",
    "            \n",
    "            avg_cost += loss.item()/total_batch\n",
    "               \n",
    "        train_hist[epoch] = avg_cost        \n",
    "        \n",
    "        if epoch % verbose == 0:\n",
    "            print('Epoch:', '%04d' % (epoch), 'train loss :', '{:.4f}'.format(avg_cost))\n",
    "            \n",
    "        # patience번째 마다 early stopping 여부 확인\n",
    "        if (epoch % patience == 0) & (epoch != 0):\n",
    "            \n",
    "            # loss가 커졌다면 early stop\n",
    "            if train_hist[epoch-patience] < train_hist[epoch]:\n",
    "                print('\\n Early Stopping')\n",
    "                \n",
    "                break\n",
    "\n",
    "    return model.eval(), train_hist"
   ]
  },
  {
   "cell_type": "code",
   "execution_count": 8,
   "metadata": {},
   "outputs": [
    {
     "name": "stdout",
     "output_type": "stream",
     "text": [
      "Epoch: 0000 train loss : 0.4034\n",
      "Epoch: 0020 train loss : 0.0062\n",
      "Epoch: 0040 train loss : 0.0022\n",
      "Epoch: 0060 train loss : 0.0004\n",
      "Epoch: 0080 train loss : 0.0003\n",
      "Epoch: 0100 train loss : 0.0003\n",
      "Epoch: 0120 train loss : 0.0003\n",
      "Epoch: 0140 train loss : 0.0002\n",
      "Epoch: 0160 train loss : 0.0002\n",
      "Epoch: 0180 train loss : 0.0002\n",
      "Epoch: 0200 train loss : 0.0002\n",
      "Epoch: 0220 train loss : 0.0002\n",
      "Epoch: 0240 train loss : 0.0002\n",
      "Epoch: 0260 train loss : 0.0002\n",
      "Epoch: 0280 train loss : 0.0001\n"
     ]
    }
   ],
   "source": [
    "# 모델 학습\n",
    "device = torch.device(\"cuda\" if torch.cuda.is_available() else \"cpu\")\n",
    "model = LSTM(num_classes, input_size, hidden_size, num_layers, seq_length).to(device)\n",
    "trained_model, train_hist = train_model(model, dataloader, num_epochs = nb_epochs, lr = learning_rate, verbose = 20, patience = 10)"
   ]
  },
  {
   "cell_type": "code",
   "execution_count": 264,
   "metadata": {},
   "outputs": [
    {
     "data": {
      "image/png": "[encoded data removed]",
      "text/plain": [
       "<Figure size 1000x400 with 1 Axes>"
      ]
     },
     "metadata": {},
     "output_type": "display_data"
    }
   ],
   "source": [
    "# epoch별 손실값\n",
    "fig = plt.figure(figsize=(10, 4))\n",
    "plt.plot(train_hist, label=\"Training loss\")\n",
    "plt.legend()\n",
    "plt.show()"
   ]
  },
  {
   "cell_type": "code",
   "execution_count": 11,
   "metadata": {},
   "outputs": [
    {
     "data": {
      "text/plain": [
       "LSTM(\n",
       "  (lstm): LSTM(6, 25, batch_first=True)\n",
       "  (fc_1): Linear(in_features=25, out_features=128, bias=True)\n",
       "  (fc): Linear(in_features=128, out_features=1, bias=True)\n",
       "  (relu): ReLU()\n",
       ")"
      ]
     },
     "execution_count": 11,
     "metadata": {},
     "output_type": "execute_result"
    }
   ],
   "source": [
    "trained_model"
   ]
  },
  {
   "cell_type": "code",
   "execution_count": 23,
   "metadata": {},
   "outputs": [
    {
     "name": "stdout",
     "output_type": "stream",
     "text": [
      "MAE SCORE :  0.08727895966156822\n"
     ]
    }
   ],
   "source": [
    "# 예측 테스트\n",
    "with torch.no_grad(): \n",
    "    pred = []\n",
    "    for pr in range(len(testX_tensor)):\n",
    "\n",
    "        predicted = model(torch.unsqueeze(testX_tensor[pr], 0))\n",
    "        predicted = torch.flatten(predicted).item()\n",
    "        pred.append(predicted)\n",
    "\n",
    "    # INVERSE\n",
    "    pred_inverse = scaler.inverse_transform(np.array(pred).reshape(-1, 1))\n",
    "    testY_inverse = scaler.inverse_transform(testY_tensor)\n",
    "\n",
    "def MAE(true, pred):\n",
    "    return np.mean(np.abs(true-pred))\n",
    "\n",
    "print('MAE SCORE : ', MAE(pred_inverse, testY_inverse))"
   ]
  },
  {
   "cell_type": "code",
   "execution_count": 24,
   "metadata": {},
   "outputs": [
    {
     "data": {
      "image/png": "[encoded data removed]",
      "text/plain": [
       "<Figure size 800x300 with 1 Axes>"
      ]
     },
     "metadata": {},
     "output_type": "display_data"
    }
   ],
   "source": [
    "fig = plt.figure(figsize=(8,3))\n",
    "plt.plot(np.arange(len(pred_inverse)), pred_inverse, label = 'pred')\n",
    "plt.plot(np.arange(len(testY_inverse)), testY_inverse, label = 'true')\n",
    "plt.title(\"Loss plot\")\n",
    "plt.show()"
   ]
  }
 ],
 "metadata": {
  "kernelspec": {
   "display_name": "main",
   "language": "python",
   "name": "python3"
  },
  "language_info": {
   "codemirror_mode": {
    "name": "ipython",
    "version": 3
   },
   "file_extension": ".py",
   "mimetype": "text/x-python",
   "name": "python",
   "nbconvert_exporter": "python",
   "pygments_lexer": "ipython3",
   "version": "3.10.8"
  },
  "orig_nbformat": 4
 },
 "nbformat": 4,
 "nbformat_minor": 2
}
