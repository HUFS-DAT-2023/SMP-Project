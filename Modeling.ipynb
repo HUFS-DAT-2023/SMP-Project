{
 "cells": [
  {
   "cell_type": "code",
   "execution_count": 148,
   "metadata": {},
   "outputs": [],
   "source": [
    "import pandas as pd\n",
    "import numpy as np\n",
    "import matplotlib.pyplot as plt\n",
    "import torch\n",
    "import torch.nn as nn\n",
    "import torch.optim as optim\n",
    "from torchsummary import summary\n",
    "from sklearn.preprocessing import StandardScaler\n",
    "from torch.autograd import Variable\n",
    "from torch.utils.data import TensorDataset, DataLoader\n",
    "import wi"
   ]
  },
  {
   "cell_type": "code",
   "execution_count": 176,
   "metadata": {},
   "outputs": [
    {
     "name": "stdout",
     "output_type": "stream",
     "text": [
      "<class 'pandas.core.frame.DataFrame'>\n",
      "RangeIndex: 2462 entries, 0 to 2461\n",
      "Data columns (total 7 columns):\n",
      " #   Column  Non-Null Count  Dtype  \n",
      "---  ------  --------------  -----  \n",
      " 0   Date    2462 non-null   object \n",
      " 1   Open    2462 non-null   int64  \n",
      " 2   High    2462 non-null   int64  \n",
      " 3   Low     2462 non-null   int64  \n",
      " 4   Close   2462 non-null   int64  \n",
      " 5   Volume  2462 non-null   int64  \n",
      " 6   Change  2462 non-null   float64\n",
      "dtypes: float64(1), int64(5), object(1)\n",
      "memory usage: 134.8+ KB\n"
     ]
    }
   ],
   "source": [
    "# Data Loading\n",
    "df = pd.read_csv('./Data/inverse_data.csv')\n",
    "df.info()"
   ]
  },
  {
   "cell_type": "code",
   "execution_count": 177,
   "metadata": {},
   "outputs": [],
   "source": [
    "# orginal data\n",
    "original_close = df['Close'].values\n",
    "\n",
    "# separate dates for future plotting\n",
    "dates = pd.to_datetime(df['Date'])\n",
    "\n",
    "# variables for training\n",
    "cols = ['Open', 'High', 'Low', 'Close', 'Volume']\n",
    "\n",
    "# new dataframe with only training data - 5 columns\n",
    "df = df[cols].astype(float)\n",
    "\n",
    "# normalize the dataset\n",
    "scaler = StandardScaler()\n",
    "scaler = scaler.fit(df)\n",
    "stock_data_scaled = scaler.transform(df)\n",
    "\n",
    "# split to train data and test data\n",
    "n_train = int(0.9*stock_data_scaled.shape[0])\n",
    "train_data_scaled = stock_data_scaled[0: n_train]\n",
    "train_dates = dates[0: n_train]\n",
    "\n",
    "test_data_scaled = stock_data_scaled[n_train:]\n",
    "test_dates = dates[n_train:]"
   ]
  },
  {
   "cell_type": "code",
   "execution_count": 163,
   "metadata": {},
   "outputs": [
    {
     "name": "stdout",
     "output_type": "stream",
     "text": [
      "trainX:(2208, 7, 5), testX:(240, 7, 5), trainY:(2208, 1), testY:(240, 1)\n"
     ]
    }
   ],
   "source": [
    "pred_days = 1\n",
    "seq_len = 7\n",
    "batch = 100\n",
    "\n",
    "trainX = []\n",
    "trainY = []\n",
    "testX = []\n",
    "testY = []\n",
    "\n",
    "for i in range(seq_len, n_train-pred_days +1):\n",
    "    trainX.append(train_data_scaled[i - seq_len:i, 0:train_data_scaled.shape[1]])\n",
    "    trainY.append(train_data_scaled[i + pred_days - 1:i + pred_days, 0])\n",
    "\n",
    "for i in range(seq_len, len(test_data_scaled)-pred_days +1):\n",
    "    testX.append(test_data_scaled[i - seq_len:i, 0:test_data_scaled.shape[1]])\n",
    "    testY.append(test_data_scaled[i + pred_days - 1:i + pred_days, 0])\n",
    "\n",
    "trainX, trainY = np.array(trainX), np.array(trainY)\n",
    "testX, testY = np.array(testX), np.array(testY)\n",
    "\n",
    "print(f\"trainX:{trainX.shape}, testX:{testX.shape}, trainY:{trainY.shape}, testY:{testY.shape}\")\n",
    "\n",
    "# 텐서로 변환\n",
    "trainX_tensor = torch.FloatTensor(trainX)\n",
    "trainY_tensor = torch.FloatTensor(trainY)\n",
    "\n",
    "testX_tensor = torch.FloatTensor(testX)\n",
    "testY_tensor = torch.FloatTensor(testY)\n",
    "\n",
    "# 텐서 형태로 데이터 정의\n",
    "dataset = TensorDataset(trainX_tensor, trainY_tensor)\n",
    "\n",
    "# 데이터로더는 기본적으로 2개의 인자를 입력받으며 배치크기는 통상적으로 2의 배수를 사용\n",
    "dataloader = DataLoader(dataset,\n",
    "                        batch_size=batch,\n",
    "                        shuffle=True,  \n",
    "                        drop_last=True)"
   ]
  },
  {
   "cell_type": "code",
   "execution_count": 167,
   "metadata": {},
   "outputs": [],
   "source": [
    "# Hyper Parameter\n",
    "num_classes = 1 #number of output classes \n",
    "\n",
    "input_size = 5\n",
    "hidden_size = 25\n",
    "num_layers = 1\n",
    "\n",
    "learning_rate = 0.0001\n",
    "nb_epochs = 300\n",
    "\n",
    "class LSTM(nn.Module):\n",
    "    # 기본변수, layer를 초기화해주는 생성자\n",
    "    def __init__(self, num_classes, input_size, hidden_size, num_layers, seq_length):\n",
    "        super(LSTM, self).__init__()\n",
    "        self.num_classes = num_classes \n",
    "        self.input_size = input_size\n",
    "        self.hidden_size = hidden_size\n",
    "        self.num_layers = num_layers \n",
    "        self.seq_length = seq_length\n",
    "        \n",
    "        self.lstm = nn.LSTM(input_size=input_size, hidden_size=hidden_size, \n",
    "                            num_layers=num_layers, batch_first=True)\n",
    "\n",
    "        self.fc_1 =  nn.Linear(hidden_size, 128) #fully connected 1\n",
    "        self.fc = nn.Linear(128, num_classes) #fully connected last layer\n",
    "        self.relu = nn.ReLU()\n",
    "\n",
    "    def forward(self, x) :\n",
    "        # Propagate input through LSTM\n",
    "        h_0 = Variable(torch.zeros(self.num_layers, x.size(0), self.hidden_size))\n",
    "        c_0 = Variable(torch.zeros(self.num_layers, x.size(0), self.hidden_size))\n",
    "           \n",
    "        output, (hn, cn) = self.lstm(x, (h_0, c_0)) # lstm with input, hidden, and internal state\n",
    "\n",
    "        hn = hn.view(-1, self.hidden_size) # reshaping the data for Dense layer next\n",
    "        out = self.relu(hn)\n",
    "        out = self.fc_1(out) #first Dense\n",
    "        out = self.relu(out) #relu\n",
    "        out = self.fc(out) #Final Output\n",
    "\n",
    "        return out"
   ]
  },
  {
   "cell_type": "code",
   "execution_count": 165,
   "metadata": {},
   "outputs": [],
   "source": [
    "def train_model(model, train_df, num_epochs = None, lr = None, verbose = 1, patience = 5):\n",
    "    device = torch.device(\"cuda\" if torch.cuda.is_available() else \"cpu\")\n",
    "    criterion = nn.MSELoss().to(device)\n",
    "    optimizer = optim.Adam(model.parameters(), lr = learning_rate)\n",
    "    nb_epochs = num_epochs\n",
    "    \n",
    "    # epoch마다 loss 저장\n",
    "    train_hist = np.zeros(nb_epochs)\n",
    "\n",
    "    for epoch in range(nb_epochs):\n",
    "        avg_cost = 0\n",
    "        total_batch = len(train_df)\n",
    "        for batch_idx, samples in enumerate(train_df):\n",
    "\n",
    "            x_train, y_train = samples\n",
    "            \n",
    "            # H(x) 계산\n",
    "            outputs = model.forward(x_train)\n",
    "            # cost 계산\n",
    "            loss = criterion(outputs, y_train)                 \n",
    "            \n",
    "            # cost로 H(x) 개선\n",
    "            optimizer.zero_grad()\n",
    "            loss.backward()\n",
    "            optimizer.step()\n",
    "            \n",
    "            avg_cost += loss.item()/total_batch\n",
    "               \n",
    "        train_hist[epoch] = avg_cost        \n",
    "        \n",
    "        if epoch % verbose == 0:\n",
    "            print('Epoch:', '%04d' % (epoch), 'train loss :', '{:.4f}'.format(avg_cost))\n",
    "            \n",
    "        # patience번째 마다 early stopping 여부 확인\n",
    "        if (epoch % patience == 0) & (epoch != 0):\n",
    "            \n",
    "            # loss가 커졌다면 early stop\n",
    "            if train_hist[epoch-patience] < train_hist[epoch]:\n",
    "                print('\\n Early Stopping')\n",
    "                \n",
    "                break\n",
    "\n",
    "    return model.eval(), train_hist"
   ]
  },
  {
   "cell_type": "code",
   "execution_count": 168,
   "metadata": {},
   "outputs": [
    {
     "name": "stdout",
     "output_type": "stream",
     "text": [
      "Epoch: 0000 train loss : 0.8960\n",
      "Epoch: 0020 train loss : 0.0209\n",
      "Epoch: 0040 train loss : 0.0060\n",
      "Epoch: 0060 train loss : 0.0046\n",
      "Epoch: 0080 train loss : 0.0039\n",
      "Epoch: 0100 train loss : 0.0035\n",
      "Epoch: 0120 train loss : 0.0032\n",
      "Epoch: 0140 train loss : 0.0029\n",
      "Epoch: 0160 train loss : 0.0027\n",
      "Epoch: 0180 train loss : 0.0024\n",
      "Epoch: 0200 train loss : 0.0021\n",
      "Epoch: 0220 train loss : 0.0019\n",
      "Epoch: 0240 train loss : 0.0017\n",
      "Epoch: 0260 train loss : 0.0016\n",
      "Epoch: 0280 train loss : 0.0014\n",
      "\n",
      " Early Stopping\n"
     ]
    }
   ],
   "source": [
    "# 모델 학습\n",
    "device = torch.device(\"cuda\" if torch.cuda.is_available() else \"cpu\")\n",
    "model = LSTM(num_classes, input_size, hidden_size, num_layers, seq_length).to(device)\n",
    "trained_model, train_hist = train_model(model, dataloader, num_epochs = nb_epochs, lr = learning_rate, verbose = 20, patience = 10)"
   ]
  },
  {
   "cell_type": "code",
   "execution_count": 169,
   "metadata": {},
   "outputs": [
    {
     "data": {
      "image/png": "[encoded data removed]",
      "text/plain": [
       "<Figure size 1000x400 with 1 Axes>"
      ]
     },
     "metadata": {},
     "output_type": "display_data"
    }
   ],
   "source": [
    "# epoch별 손실값\n",
    "fig = plt.figure(figsize=(10, 4))\n",
    "plt.plot(train_hist, label=\"Training loss\")\n",
    "plt.legend()\n",
    "plt.show()"
   ]
  },
  {
   "cell_type": "code",
   "execution_count": 102,
   "metadata": {},
   "outputs": [
    {
     "data": {
      "text/html": [
       "<div>\n",
       "<style scoped>\n",
       "    .dataframe tbody tr th:only-of-type {\n",
       "        vertical-align: middle;\n",
       "    }\n",
       "\n",
       "    .dataframe tbody tr th {\n",
       "        vertical-align: top;\n",
       "    }\n",
       "\n",
       "    .dataframe thead th {\n",
       "        text-align: right;\n",
       "    }\n",
       "</style>\n",
       "<table border=\"1\" class=\"dataframe\">\n",
       "  <thead>\n",
       "    <tr style=\"text-align: right;\">\n",
       "      <th></th>\n",
       "      <th>Open</th>\n",
       "      <th>High</th>\n",
       "      <th>Low</th>\n",
       "      <th>Close</th>\n",
       "      <th>Volume</th>\n",
       "      <th>Change</th>\n",
       "    </tr>\n",
       "    <tr>\n",
       "      <th>Date</th>\n",
       "      <th></th>\n",
       "      <th></th>\n",
       "      <th></th>\n",
       "      <th></th>\n",
       "      <th></th>\n",
       "      <th></th>\n",
       "    </tr>\n",
       "  </thead>\n",
       "  <tbody>\n",
       "    <tr>\n",
       "      <th>2020-01-02</th>\n",
       "      <td>-0.183701</td>\n",
       "      <td>-0.147365</td>\n",
       "      <td>-0.166477</td>\n",
       "      <td>-0.130659</td>\n",
       "      <td>-0.762946</td>\n",
       "      <td>0.011811</td>\n",
       "    </tr>\n",
       "    <tr>\n",
       "      <th>2020-01-03</th>\n",
       "      <td>-0.173119</td>\n",
       "      <td>-0.129791</td>\n",
       "      <td>-0.173557</td>\n",
       "      <td>-0.127130</td>\n",
       "      <td>-0.463626</td>\n",
       "      <td>0.000778</td>\n",
       "    </tr>\n",
       "    <tr>\n",
       "      <th>2020-01-06</th>\n",
       "      <td>-0.088463</td>\n",
       "      <td>-0.108701</td>\n",
       "      <td>-0.085062</td>\n",
       "      <td>-0.091848</td>\n",
       "      <td>-0.593702</td>\n",
       "      <td>0.007776</td>\n",
       "    </tr>\n",
       "    <tr>\n",
       "      <th>2020-01-07</th>\n",
       "      <td>-0.113155</td>\n",
       "      <td>-0.136820</td>\n",
       "      <td>-0.134619</td>\n",
       "      <td>-0.141244</td>\n",
       "      <td>-0.475082</td>\n",
       "      <td>-0.010802</td>\n",
       "    </tr>\n",
       "    <tr>\n",
       "      <th>2020-01-08</th>\n",
       "      <td>-0.106100</td>\n",
       "      <td>-0.105186</td>\n",
       "      <td>-0.109841</td>\n",
       "      <td>-0.109489</td>\n",
       "      <td>-0.113337</td>\n",
       "      <td>0.007020</td>\n",
       "    </tr>\n",
       "  </tbody>\n",
       "</table>\n",
       "</div>"
      ],
      "text/plain": [
       "                Open      High       Low     Close    Volume    Change\n",
       "Date                                                                  \n",
       "2020-01-02 -0.183701 -0.147365 -0.166477 -0.130659 -0.762946  0.011811\n",
       "2020-01-03 -0.173119 -0.129791 -0.173557 -0.127130 -0.463626  0.000778\n",
       "2020-01-06 -0.088463 -0.108701 -0.085062 -0.091848 -0.593702  0.007776\n",
       "2020-01-07 -0.113155 -0.136820 -0.134619 -0.141244 -0.475082 -0.010802\n",
       "2020-01-08 -0.106100 -0.105186 -0.109841 -0.109489 -0.113337  0.007020"
      ]
     },
     "execution_count": 102,
     "metadata": {},
     "output_type": "execute_result"
    }
   ],
   "source": [
    "test_set.head()"
   ]
  },
  {
   "cell_type": "code",
   "execution_count": 174,
   "metadata": {},
   "outputs": [
    {
     "name": "stderr",
     "output_type": "stream",
     "text": [
      "/var/folders/82/yjz_v88n7jnb6641bk83qtvw0000gn/T/ipykernel_23261/501801010.py:15: FutureWarning: The behavior of `series[i:j]` with an integer-dtype index is deprecated. In a future version, this will be treated as *label-based* indexing, consistent with e.g. `series[i]` lookups. To retain the old behavior, use `series.iloc[i:j]`. To get the future behavior, use `series.loc[i:j]`.\n",
      "  plt.plot(test_dates[seq_len:], testY_original, color='blue', label='Actual Open Price')\n",
      "/var/folders/82/yjz_v88n7jnb6641bk83qtvw0000gn/T/ipykernel_23261/501801010.py:16: FutureWarning: The behavior of `series[i:j]` with an integer-dtype index is deprecated. In a future version, this will be treated as *label-based* indexing, consistent with e.g. `series[i]` lookups. To retain the old behavior, use `series.iloc[i:j]`. To get the future behavior, use `series.loc[i:j]`.\n",
      "  plt.plot(test_dates[seq_len:], y_pred, color='red', linestyle='--', label='Predicted Open Price')\n"
     ]
    },
    {
     "data": {
      "image/png": "[encoded data removed]",
      "text/plain": [
       "<Figure size 640x480 with 1 Axes>"
      ]
     },
     "metadata": {},
     "output_type": "display_data"
    }
   ],
   "source": [
    "train_predict = trained_model(testX_tensor)\n",
    "prediction = train_predict.data.numpy()\n",
    "label_y = testY_tensor.data.numpy()\n",
    "\n",
    "mean_values_pred = np.repeat(scaler.mean_[np.newaxis, :], prediction.shape[0], axis=0)\n",
    "mean_values_pred[:, 0] = np.squeeze(prediction)\n",
    "y_pred = scaler.inverse_transform(mean_values_pred)[:, 0]\n",
    "\n",
    "mean_values_testY = np.repeat(scaler.mean_[np.newaxis, :], testY.shape[0], axis=0)\n",
    "mean_values_testY[:, 0] = np.squeeze(testY)\n",
    "testY_original = scaler.inverse_transform(mean_values_testY)[:, 0]\n",
    "\n",
    "original_close = df['Close'].values\n",
    "plt.plot(dates, original_close, color='green', label = 'Original Data')\n",
    "plt.plot(test_dates[seq_len:], testY_original, color='blue', label='Actual Open Price')\n",
    "plt.plot(test_dates[seq_len:], y_pred, color='red', linestyle='--', label='Predicted Open Price')\n",
    "plt.legend()\n",
    "plt.show()"
   ]
  }
 ],
 "metadata": {
  "kernelspec": {
   "display_name": "main",
   "language": "python",
   "name": "python3"
  },
  "language_info": {
   "codemirror_mode": {
    "name": "ipython",
    "version": 3
   },
   "file_extension": ".py",
   "mimetype": "text/x-python",
   "name": "python",
   "nbconvert_exporter": "python",
   "pygments_lexer": "ipython3",
   "version": "3.10.4"
  },
  "orig_nbformat": 4
 },
 "nbformat": 4,
 "nbformat_minor": 2
}
